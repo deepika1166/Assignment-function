{
  "nbformat": 4,
  "nbformat_minor": 0,
  "metadata": {
    "colab": {
      "provenance": []
    },
    "kernelspec": {
      "name": "python3",
      "display_name": "Python 3"
    },
    "language_info": {
      "name": "python"
    }
  },
  "cells": [
    {
      "cell_type": "markdown",
      "source": [
        "#Assignment Functions"
      ],
      "metadata": {
        "id": "UX_1ZJqcJkSm"
      }
    },
    {
      "cell_type": "markdown",
      "source": [
        "**Theory** **Questions**:\n",
        "\n",
        "\n",
        "\n"
      ],
      "metadata": {
        "id": "VO3gJmzFJpww"
      }
    },
    {
      "cell_type": "markdown",
      "source": [
        "1. What is the difference between a function and a method in Python?"
      ],
      "metadata": {
        "id": "Kt3m_DS_J5Rx"
      }
    },
    {
      "cell_type": "markdown",
      "source": [
        "* | Feature             | **Function**                                            | **Method**                                                                                     |\n",
        "| ------------------- | ------------------------------------------------------- | ---------------------------------------------------------------------------------------------- |\n",
        "| **Definition**      | A block of reusable code that performs a specific task. | A function that is **associated with an object** (usually called through a class or instance). |\n",
        "| **How it’s called** | Called **independently** using its name.                | Called **on an object** using dot notation (`object.method()`).                                |\n",
        "| **Belongs to**      | Defined at the **module (global)** level.               | Defined **inside a class** and belongs to its **objects**.                                     |\n",
        "| **First parameter** | No implicit first parameter.                            | Automatically takes the **object itself** (`self`) as the first parameter.                     |\n",
        "| **Example**         | `len([1,2,3])` (built-in function)                      | `[1,2,3].append(4)` (`append` is a list method)                                                |\n",
        "\n",
        "\n"
      ],
      "metadata": {
        "id": "hHduOEt2K3PV"
      }
    },
    {
      "cell_type": "code",
      "source": [
        "# Example :\n",
        "\n",
        "# Examples:\n",
        "# Function:\n",
        "def greet(name):\n",
        "    return \"Hello, \" + name\n",
        "\n",
        "print(greet(\"Alice\"))  # Function call\n",
        "\n",
        "# Method:\n",
        "name = \"Alice\"\n",
        "print(name.upper())  # 'upper' is a string method"
      ],
      "metadata": {
        "colab": {
          "base_uri": "https://localhost:8080/"
        },
        "id": "D_20NGNeLG6M",
        "outputId": "91dee7d6-179f-4bdb-c6fa-8b4f45387ffa"
      },
      "execution_count": 2,
      "outputs": [
        {
          "output_type": "stream",
          "name": "stdout",
          "text": [
            "Hello, Alice\n",
            "ALICE\n"
          ]
        }
      ]
    },
    {
      "cell_type": "markdown",
      "source": [
        "2. Explain the concept of function arguments and parameters in Python."
      ],
      "metadata": {
        "id": "0g1yBxiGLbC4"
      }
    },
    {
      "cell_type": "markdown",
      "source": [
        "* A. Parameters :mThese are variables listed in the function definition.\n",
        "\n",
        "They act as placeholders for values that the function will receive.\n",
        "\n",
        "Think of them as “input names” used inside the function.\n",
        "\n",
        " B. Arguments :\n",
        "\n",
        "These are the actual values you pass to a function when you call it.\n",
        "\n",
        "They replace the parameters during execution.\n"
      ],
      "metadata": {
        "id": "TX8ZG6d6Ll_a"
      }
    },
    {
      "cell_type": "code",
      "source": [
        "def greet(name):  # 'name' is a parameter\n",
        "    print(\"Hello,\", name)\n",
        "\n",
        "    greet(\"Alice\")  # \"Alice\" is an argument\n",
        "\n",
        "\n",
        "\n",
        "\n"
      ],
      "metadata": {
        "id": "ilujIw3APpzr"
      },
      "execution_count": 9,
      "outputs": []
    },
    {
      "cell_type": "markdown",
      "source": [
        "3.  What are the different ways to define and call a function in Python?"
      ],
      "metadata": {
        "id": "vvRIU4NAQFEY"
      }
    },
    {
      "cell_type": "markdown",
      "source": [
        "* Define a function using the def keyword and call it by its name.\n"
      ],
      "metadata": {
        "id": "z7pFVTTvQLic"
      }
    },
    {
      "cell_type": "code",
      "source": [
        "def greet():\n",
        "    print(\"Hello, world!\")\n",
        "\n",
        "# Call the function\n",
        "greet()\n"
      ],
      "metadata": {
        "colab": {
          "base_uri": "https://localhost:8080/"
        },
        "id": "K7jFukGIQjE5",
        "outputId": "637d49dc-b93d-4de3-fb08-fbc0da203424"
      },
      "execution_count": 10,
      "outputs": [
        {
          "output_type": "stream",
          "name": "stdout",
          "text": [
            "Hello, world!\n"
          ]
        }
      ]
    },
    {
      "cell_type": "markdown",
      "source": [
        "* Function with Parameters\n",
        "\n",
        "You can pass values (arguments) into a function.\n"
      ],
      "metadata": {
        "id": "FpLpwMcFQnXq"
      }
    },
    {
      "cell_type": "code",
      "source": [
        "def greet(name):\n",
        "    print(\"Hello,\", name)\n",
        "\n",
        "greet(\"Alice\")   # Passing argument\n"
      ],
      "metadata": {
        "colab": {
          "base_uri": "https://localhost:8080/"
        },
        "id": "Zt0kqvJTQ2H3",
        "outputId": "299ab111-8866-4f80-d3f2-c7318be637fe"
      },
      "execution_count": 11,
      "outputs": [
        {
          "output_type": "stream",
          "name": "stdout",
          "text": [
            "Hello, Alice\n"
          ]
        }
      ]
    },
    {
      "cell_type": "markdown",
      "source": [
        "4. What is the purpose of the `return` statement in a Python function?"
      ],
      "metadata": {
        "id": "ZTqQQIPTQ8mz"
      }
    },
    {
      "cell_type": "markdown",
      "source": [
        "* The return statement in Python is used to send a result (value or object) back from a function to the place where it was called.\n",
        "  *Purpose of return:\n",
        " - Send data back to the caller\n",
        "\n",
        " -Exit a function early\n",
        "\n",
        " -Store or use the result elsewhere"
      ],
      "metadata": {
        "id": "xroAgDtJRXmV"
      }
    },
    {
      "cell_type": "code",
      "execution_count": 12,
      "metadata": {
        "colab": {
          "base_uri": "https://localhost:8080/"
        },
        "id": "Qh_lVsAzJUUD",
        "outputId": "e38a9586-4971-435c-bd84-fff97b942773"
      },
      "outputs": [
        {
          "output_type": "stream",
          "name": "stdout",
          "text": [
            "Sum: 15\n"
          ]
        }
      ],
      "source": [
        "def add(a, b):\n",
        "    return a + b  # returns the sum\n",
        "\n",
        "result = add(5, 10)\n",
        "print(\"Sum:\", result)\n"
      ]
    },
    {
      "cell_type": "markdown",
      "source": [
        "5. What are iterators in Python and how do they differ from iterables?"
      ],
      "metadata": {
        "id": "bVjFeNpVkzq0"
      }
    },
    {
      "cell_type": "markdown",
      "source": [
        "* 1. Iterable : An iterable is any object in Python that can return its elements one at a time — you can loop over it using a for loop.\n",
        " Examples of iterables: list, tuple, string, set, dict, range()\n",
        "\n",
        "In short:If you can use it in a for loop, it’s an iterable."
      ],
      "metadata": {
        "id": "BL1iswgLlZW-"
      }
    },
    {
      "cell_type": "code",
      "source": [
        "numbers = [1, 2, 3]\n",
        "for n in numbers:     # Works because list is iterable\n",
        "    print(n)\n"
      ],
      "metadata": {
        "colab": {
          "base_uri": "https://localhost:8080/"
        },
        "id": "VoY_3bb9R1AF",
        "outputId": "628af522-c38a-4f2e-92dd-d35dd3600782"
      },
      "execution_count": 1,
      "outputs": [
        {
          "output_type": "stream",
          "name": "stdout",
          "text": [
            "1\n",
            "2\n",
            "3\n"
          ]
        }
      ]
    },
    {
      "cell_type": "markdown",
      "source": [
        "* An iterator is an object that actually performs the iteration — it remembers where it is during the loop and returns elements one by one using the next() function.\n",
        "\n",
        "You can get an iterator from an iterable using the iter() function."
      ],
      "metadata": {
        "id": "3jR8O3nol3F4"
      }
    },
    {
      "cell_type": "code",
      "source": [
        "numbers = [1, 2, 3]      # Iterable\n",
        "it = iter(numbers)       # Iterator created\n",
        "\n",
        "print(next(it))  # 1\n",
        "print(next(it))  # 2\n",
        "print(next(it))  # 3\n"
      ],
      "metadata": {
        "colab": {
          "base_uri": "https://localhost:8080/"
        },
        "id": "xfVRhzjTmAoh",
        "outputId": "eca00f9a-a146-41f7-e2e2-066560c061da"
      },
      "execution_count": 2,
      "outputs": [
        {
          "output_type": "stream",
          "name": "stdout",
          "text": [
            "1\n",
            "2\n",
            "3\n"
          ]
        }
      ]
    },
    {
      "cell_type": "markdown",
      "source": [
        "Summary:\n",
        "\n",
        "Iterable → can be looped over\n",
        "\n",
        "Iterator → actually does the looping with next()"
      ],
      "metadata": {
        "id": "TOAzuK-qm2Wf"
      }
    },
    {
      "cell_type": "markdown",
      "source": [
        "6.  Explain the concept of generators in Python and how they are defined."
      ],
      "metadata": {
        "id": "5tMDoRupm-SZ"
      }
    },
    {
      "cell_type": "markdown",
      "source": [
        "* A generator is a special type of iterator that yields values one at a time instead of returning them all at once.\n",
        "\n",
        "They’re used to generate a sequence of values lazily, meaning values are produced on the fly, not stored in memory.\n",
        "\n",
        "* Generators are created in two ways:\n",
        "  Using a Function with yield : Instead of return, use yield to produce values one at a time."
      ],
      "metadata": {
        "id": "1vTVTG3NoMOP"
      }
    },
    {
      "cell_type": "code",
      "source": [
        "def count_up_to(n):\n",
        "    count = 1\n",
        "    while count <= n:\n",
        "        yield count   # pauses & returns a value\n",
        "        count += 1\n",
        "\n",
        "# Create generator\n",
        "counter = count_up_to(5)\n",
        "\n",
        "# Use the generator\n",
        "for num in counter:\n",
        "    print(num)\n"
      ],
      "metadata": {
        "colab": {
          "base_uri": "https://localhost:8080/"
        },
        "id": "if_xO4jfpBm4",
        "outputId": "3b821a47-090d-4e67-bf64-fa9a1ef78ae0"
      },
      "execution_count": 3,
      "outputs": [
        {
          "output_type": "stream",
          "name": "stdout",
          "text": [
            "1\n",
            "2\n",
            "3\n",
            "4\n",
            "5\n"
          ]
        }
      ]
    },
    {
      "cell_type": "markdown",
      "source": [
        "* Using Generator Expressions\n",
        "\n",
        "A generator expression looks like a list comprehension but uses parentheses () instead of square brackets []."
      ],
      "metadata": {
        "id": "QTgUGa07pQuq"
      }
    },
    {
      "cell_type": "code",
      "source": [
        "squares = (x*x for x in range(5))\n",
        "print(next(squares))  # 0\n",
        "print(next(squares))  # 1\n",
        "print(next(squares))  # 4\n"
      ],
      "metadata": {
        "colab": {
          "base_uri": "https://localhost:8080/"
        },
        "id": "hloN_3NopZPX",
        "outputId": "fc68f529-8e5b-43af-a03e-41465a2d6f1f"
      },
      "execution_count": 4,
      "outputs": [
        {
          "output_type": "stream",
          "name": "stdout",
          "text": [
            "0\n",
            "1\n",
            "4\n"
          ]
        }
      ]
    },
    {
      "cell_type": "markdown",
      "source": [
        "7.  What are the advantages of using generators over regular functions?"
      ],
      "metadata": {
        "id": "0bz46EmTpvLw"
      }
    },
    {
      "cell_type": "markdown",
      "source": [
        "| Advantage                 | Description                                     |\n",
        "| ------------------------- | ----------------------------------------------- |\n",
        "|  **Memory Efficiency**  | Yield items one by one, no huge lists in memory |\n",
        "|  **Lazy Evaluation**     | Compute values only when needed                 |\n",
        "|  **Infinite Sequences** | Can generate endless data safely                |\n",
        "|  **Clean Code**         | Easier to write and maintain                    |\n",
        "|  **Better Performance** | Less overhead than list-building                |\n"
      ],
      "metadata": {
        "id": "9XMxvDFyqX38"
      }
    },
    {
      "cell_type": "markdown",
      "source": [
        "8.  What is a lambda function in Python and when is it typically used?"
      ],
      "metadata": {
        "id": "mzvgXiForRZF"
      }
    },
    {
      "cell_type": "markdown",
      "source": [
        "* A lambda function in Python is a small, anonymous function defined using the keyword lambda instead of def.\n",
        "\n",
        " * It’s often called an inline function because it’s usually written in one line and used where a full function definition would be too bulky.\n",
        "\n",
        " -lambda arguments: expression\n",
        "\n",
        " -It can take any number of arguments but can only contain one expression.\n",
        "\n",
        "* When to Use Lambda Functions :-\n",
        "\n",
        "When you need a simple function for a short-term use.\n",
        "\n",
        "When defining a full def function would be unnecessary.\n",
        "\n",
        "Commonly used in functional programming style (with map, filter, reduce).\n"
      ],
      "metadata": {
        "id": "xOyU0YLXrlEM"
      }
    },
    {
      "cell_type": "markdown",
      "source": [
        "9. Explain the purpose and usage of the `map()` function in Python."
      ],
      "metadata": {
        "id": "vXhHvPTAszIy"
      }
    },
    {
      "cell_type": "markdown",
      "source": [
        "* The map() function in Python is used to apply a function to every item in an iterable (like a list, tuple, or set) and return a map object (which is an iterator) containing the results.\n",
        "\n",
        "* It’s a concise way to transform data without using a manual for loop.\n",
        "\n",
        " - map(function, iterable)\n",
        " - function → The function you want to apply to each element.\n",
        "\n",
        " - iterable → The sequence of elements (e.g. list, tuple) you want to process.\n",
        "\n",
        " - The result is a map object, which can be converted to a list, tuple, or set."
      ],
      "metadata": {
        "id": "_WmMaTnKs9Rq"
      }
    },
    {
      "cell_type": "markdown",
      "source": [
        "10.  What is the difference between `map()`, `reduce()`, and `filter()` functions in Python?"
      ],
      "metadata": {
        "id": "rq5l-gFauc9j"
      }
    },
    {
      "cell_type": "markdown",
      "source": [
        " * map() – Transform Each Element\n",
        "\n",
        "   * Applies a function to every element of an iterable and returns a map object (an iterator).  map(function, iterable)\n",
        "   \n",
        "   * Purpose: Transform data (modify every element)\n",
        "  "
      ],
      "metadata": {
        "id": "eJWgWgyou3ow"
      }
    },
    {
      "cell_type": "code",
      "source": [
        " #Example :\n",
        "\n",
        " numbers = [1, 2, 3, 4]\n",
        "result = map(lambda x: x * 2, numbers)\n",
        "print(list(result))   # [2, 4, 6, 8]\n"
      ],
      "metadata": {
        "colab": {
          "base_uri": "https://localhost:8080/"
        },
        "id": "JaHgKNtlvslS",
        "outputId": "249820c7-90a1-47f6-dbd8-937b1dbc2f03"
      },
      "execution_count": 5,
      "outputs": [
        {
          "output_type": "stream",
          "name": "stdout",
          "text": [
            "[2, 4, 6, 8]\n"
          ]
        }
      ]
    },
    {
      "cell_type": "markdown",
      "source": [
        "* filter() – Select Elements That Match a Condition\n",
        "\n",
        "   - Applies a condition (function returning True/False) to each element and keeps only the True ones.\n",
        "   - Purpose: Filter data (select items that match condition\n",
        ""
      ],
      "metadata": {
        "id": "L7wFmHOpwXf1"
      }
    },
    {
      "cell_type": "code",
      "source": [
        "numbers = [1, 2, 3, 4, 5, 6]\n",
        "result = filter(lambda x: x % 2 == 0, numbers)\n",
        "print(list(result))   # [2, 4, 6]\n"
      ],
      "metadata": {
        "colab": {
          "base_uri": "https://localhost:8080/"
        },
        "id": "LLMFpdqTxdX6",
        "outputId": "cb836c7f-36db-4de2-f9cd-774c4a69dc35"
      },
      "execution_count": 6,
      "outputs": [
        {
          "output_type": "stream",
          "name": "stdout",
          "text": [
            "[2, 4, 6]\n"
          ]
        }
      ]
    },
    {
      "cell_type": "markdown",
      "source": [
        "* reduce() – Aggregate Elements into a Single Value\n",
        "\n",
        "  - Performs a rolling computation on a sequence, combining elements using a given function.\n",
        "   - It’s part of the functools module.\n",
        "   - from functools import reduce reduce(function, iterable)\n",
        "   - Reduce all elements into one final value.\n"
      ],
      "metadata": {
        "id": "vca3z8-yyAy2"
      }
    },
    {
      "cell_type": "code",
      "source": [
        "from functools import reduce\n",
        "\n",
        "numbers = [1, 2, 3, 4]\n",
        "result = reduce(lambda x, y: x + y, numbers)\n",
        "print(result)  # 10 (1+2+3+4)\n"
      ],
      "metadata": {
        "colab": {
          "base_uri": "https://localhost:8080/"
        },
        "id": "ya4tBl8Fyppn",
        "outputId": "27ccdc55-5951-46a9-9b24-2ce357a9a784"
      },
      "execution_count": 7,
      "outputs": [
        {
          "output_type": "stream",
          "name": "stdout",
          "text": [
            "10\n"
          ]
        }
      ]
    },
    {
      "cell_type": "markdown",
      "source": [
        "map() → transform\n",
        "\n",
        "filter() → select\n",
        "\n",
        "reduce() → combine"
      ],
      "metadata": {
        "id": "k0vQZhFmzeW8"
      }
    },
    {
      "cell_type": "markdown",
      "source": [
        "[link text](https://)file:///C:/Users/joshi/Downloads/Untitled%20document.pdf"
      ],
      "metadata": {
        "id": "hI7O57506OWE"
      }
    },
    {
      "cell_type": "markdown",
      "source": [
        "11. Using pen & Paper write the internal mechanism for sum operation using  reduce function on this given\n",
        "list:[47,11,42,13];"
      ],
      "metadata": {
        "id": "fMyYddBAy83v"
      }
    },
    {
      "cell_type": "markdown",
      "source": [
        "# Practical Questions\n"
      ],
      "metadata": {
        "id": "lFZaCa792ts-"
      }
    },
    {
      "cell_type": "markdown",
      "source": [
        " 1.  Write a Python function that takes a list of numbers as input and returns the sum of all even numbers in\n",
        "the list."
      ],
      "metadata": {
        "id": "UZBAjOH227db"
      }
    },
    {
      "cell_type": "code",
      "source": [
        "def sum_even_numbers(numbers):\n",
        "    total = 0\n",
        "    for num in numbers:\n",
        "        if num % 2 == 0:   # Check if number is even\n",
        "            total += num\n",
        "    return total\n",
        "\n",
        "# Example usage\n",
        "nums = [1, 2, 3, 4, 5, 6, 10]\n",
        "result = sum_even_numbers(nums)\n",
        "print(\"Sum of even numbers:\", result)\n"
      ],
      "metadata": {
        "colab": {
          "base_uri": "https://localhost:8080/"
        },
        "id": "Ht6KeYQ73zI0",
        "outputId": "94de737e-805c-4dfa-c319-862cd58a6f14"
      },
      "execution_count": 9,
      "outputs": [
        {
          "output_type": "stream",
          "name": "stdout",
          "text": [
            "Sum of even numbers: 22\n"
          ]
        }
      ]
    },
    {
      "cell_type": "markdown",
      "source": [
        "2.  Create a Python function that accepts a string and returns the reverse of that string."
      ],
      "metadata": {
        "id": "JP9WuILg5VwM"
      }
    },
    {
      "cell_type": "code",
      "source": [
        "def reverse_string(s):\n",
        "    return s[::-1]   # slicing method to reverse the string\n",
        "\n",
        "# Example usage\n",
        "text = \"Python\"\n",
        "result = reverse_string(text)\n",
        "print(\"Reversed string:\", result)\n"
      ],
      "metadata": {
        "colab": {
          "base_uri": "https://localhost:8080/"
        },
        "id": "FfeK8tbO54SA",
        "outputId": "2666c4fa-03df-499f-f8bd-7134a025324e"
      },
      "execution_count": 10,
      "outputs": [
        {
          "output_type": "stream",
          "name": "stdout",
          "text": [
            "Reversed string: nohtyP\n"
          ]
        }
      ]
    },
    {
      "cell_type": "markdown",
      "source": [
        "3.  Implement a Python function that takes a list of integers and returns a new list containing the squares of\n",
        "each number."
      ],
      "metadata": {
        "id": "xTHULbAf598C"
      }
    },
    {
      "cell_type": "code",
      "source": [
        "def square_list(numbers):\n",
        "    squared = []\n",
        "    for num in numbers:\n",
        "        squared.append(num ** 2)\n",
        "    return squared\n",
        "\n",
        "# Example usage\n",
        "nums = [1, 2, 3, 4, 5]\n",
        "result = square_list(nums)\n",
        "print(\"Squared list:\", result)\n"
      ],
      "metadata": {
        "colab": {
          "base_uri": "https://localhost:8080/"
        },
        "id": "fPkZh4hG6XED",
        "outputId": "e2811bbe-ef94-4a58-e0dd-6713a514ef0d"
      },
      "execution_count": 11,
      "outputs": [
        {
          "output_type": "stream",
          "name": "stdout",
          "text": [
            "Squared list: [1, 4, 9, 16, 25]\n"
          ]
        }
      ]
    },
    {
      "cell_type": "markdown",
      "source": [
        "4. Write a Python function that checks if a given number is prime or not from 1 to 200."
      ],
      "metadata": {
        "id": "o0S6n6Qy615g"
      }
    },
    {
      "cell_type": "code",
      "source": [
        "def is_prime(num):\n",
        "    if num <= 1:      # 0 and 1 are not prime\n",
        "        return False\n",
        "    for i in range(2, int(num ** 0.5) + 1):  # check divisibility up to square root\n",
        "        if num % i == 0:\n",
        "            return False\n",
        "    return True\n",
        "\n",
        "# Check all numbers from 1 to 200\n",
        "for n in range(1, 201):\n",
        "    if is_prime(n):\n",
        "        print(n, \"is a prime number\")\n"
      ],
      "metadata": {
        "colab": {
          "base_uri": "https://localhost:8080/"
        },
        "collapsed": true,
        "id": "-bfR39N94Vzd",
        "outputId": "e2696d24-a535-4796-ff42-4de2eec4ee79"
      },
      "execution_count": 13,
      "outputs": [
        {
          "output_type": "stream",
          "name": "stdout",
          "text": [
            "2 is a prime number\n",
            "3 is a prime number\n",
            "5 is a prime number\n",
            "7 is a prime number\n",
            "11 is a prime number\n",
            "13 is a prime number\n",
            "17 is a prime number\n",
            "19 is a prime number\n",
            "23 is a prime number\n",
            "29 is a prime number\n",
            "31 is a prime number\n",
            "37 is a prime number\n",
            "41 is a prime number\n",
            "43 is a prime number\n",
            "47 is a prime number\n",
            "53 is a prime number\n",
            "59 is a prime number\n",
            "61 is a prime number\n",
            "67 is a prime number\n",
            "71 is a prime number\n",
            "73 is a prime number\n",
            "79 is a prime number\n",
            "83 is a prime number\n",
            "89 is a prime number\n",
            "97 is a prime number\n",
            "101 is a prime number\n",
            "103 is a prime number\n",
            "107 is a prime number\n",
            "109 is a prime number\n",
            "113 is a prime number\n",
            "127 is a prime number\n",
            "131 is a prime number\n",
            "137 is a prime number\n",
            "139 is a prime number\n",
            "149 is a prime number\n",
            "151 is a prime number\n",
            "157 is a prime number\n",
            "163 is a prime number\n",
            "167 is a prime number\n",
            "173 is a prime number\n",
            "179 is a prime number\n",
            "181 is a prime number\n",
            "191 is a prime number\n",
            "193 is a prime number\n",
            "197 is a prime number\n",
            "199 is a prime number\n"
          ]
        }
      ]
    },
    {
      "cell_type": "markdown",
      "source": [
        "5.  Create an iterator class in Python that generates the Fibonacci sequence up to a specified number of\n",
        "terms."
      ],
      "metadata": {
        "id": "I_HERaUXAkBw"
      }
    },
    {
      "cell_type": "code",
      "source": [
        "class Fibonacci:\n",
        "    def __init__(self, n_terms):\n",
        "        self.n_terms = n_terms  # total terms to generate\n",
        "        self.count = 0          # counter to track current term\n",
        "        self.a = 0              # first Fibonacci number\n",
        "        self.b = 1              # second Fibonacci number\n",
        "\n",
        "    def __iter__(self):\n",
        "        return self  # an iterator must return itself\n",
        "\n",
        "    def __next__(self):\n",
        "        if self.count >= self.n_terms:  # stop condition\n",
        "            raise StopIteration\n",
        "        if self.count == 0:\n",
        "            self.count += 1\n",
        "            return self.a\n",
        "        elif self.count == 1:\n",
        "            self.count += 1\n",
        "            return self.b\n",
        "        else:\n",
        "            self.a, self.b = self.b, self.a + self.b  # update next Fibonacci\n",
        "            self.count += 1\n",
        "            return self.b\n",
        "\n",
        "# Example usage: generate first 10 Fibonacci numbers\n",
        "fib_sequence = Fibonacci(10)\n",
        "for num in fib_sequence:\n",
        "    print(num)\n"
      ],
      "metadata": {
        "colab": {
          "base_uri": "https://localhost:8080/"
        },
        "id": "ZBRHtwUVA5cO",
        "outputId": "c238fcb8-6bc9-4dc0-a0a5-4e0f5f0b7aee"
      },
      "execution_count": 14,
      "outputs": [
        {
          "output_type": "stream",
          "name": "stdout",
          "text": [
            "0\n",
            "1\n",
            "1\n",
            "2\n",
            "3\n",
            "5\n",
            "8\n",
            "13\n",
            "21\n",
            "34\n"
          ]
        }
      ]
    },
    {
      "cell_type": "markdown",
      "source": [
        "\n",
        "6. Write a generator function in Python that yields the powers of 2 up to a given exponent.\n",
        "\n"
      ],
      "metadata": {
        "id": "BwKCnMLvAryR"
      }
    },
    {
      "cell_type": "code",
      "source": [
        "def powers_of_two(n):\n",
        "    \"\"\"\n",
        "    Generator that yields powers of 2 from 2^0 to 2^n\n",
        "    \"\"\"\n",
        "    for i in range(n + 1):\n",
        "        yield 2 ** i\n",
        "\n",
        "# Example usage: powers of 2 up to 2^5\n",
        "for value in powers_of_two(5):\n",
        "    print(value)\n"
      ],
      "metadata": {
        "colab": {
          "base_uri": "https://localhost:8080/"
        },
        "id": "Q0NVQrJ0Fnue",
        "outputId": "fba10a27-9b1a-4185-ae53-3c170ae7a27e"
      },
      "execution_count": 15,
      "outputs": [
        {
          "output_type": "stream",
          "name": "stdout",
          "text": [
            "1\n",
            "2\n",
            "4\n",
            "8\n",
            "16\n",
            "32\n"
          ]
        }
      ]
    },
    {
      "cell_type": "markdown",
      "source": [
        "7.  Implement a generator function that reads a file line by line and yields each line as a string ."
      ],
      "metadata": {
        "id": "_BYTcmqeGAJc"
      }
    },
    {
      "cell_type": "code",
      "source": [
        "def read_file_line_by_line(file_path):\n",
        "    \"\"\"\n",
        "    Generator function that yields one line at a time from a file\n",
        "    \"\"\"\n",
        "    with open(file_path, 'r') as file:\n",
        "        for line in file:\n",
        "            yield line.rstrip('\\n')  # remove newline character\n",
        "\n",
        "# Example usage\n",
        "file_path = \"example.txt\"  # replace with your file path\n",
        "for line in read_file_line_by_line(file_path):\n",
        "    print(line)\n",
        "\n"
      ],
      "metadata": {
        "colab": {
          "base_uri": "https://localhost:8080/"
        },
        "id": "0rkeK8jrGbdG",
        "outputId": "e4b7e48b-947a-4829-c294-66ab31511b0a"
      },
      "execution_count": 18,
      "outputs": [
        {
          "output_type": "stream",
          "name": "stdout",
          "text": [
            "This is line 1\n",
            "This is line 2\n",
            "This is line 3\n"
          ]
        }
      ]
    },
    {
      "cell_type": "code",
      "metadata": {
        "id": "762161fb"
      },
      "source": [
        "8.  Use a lambda function in Python to sort a list of tuples based on the second element of each tuple"
      ],
      "execution_count": 17,
      "outputs": []
    },
    {
      "cell_type": "code",
      "source": [
        "# List of tuples\n",
        "data = [(1, 5), (2, 2), (3, 8), (4, 1)]\n",
        "\n",
        "# Sort based on the second element of each tuple\n",
        "sorted_data = sorted(data, key=lambda x: x[1])\n",
        "\n",
        "print(\"Sorted list:\", sorted_data)\n"
      ],
      "metadata": {
        "colab": {
          "base_uri": "https://localhost:8080/"
        },
        "id": "rVggLIHhI1mD",
        "outputId": "0b79c52a-7eba-44e7-acb9-8be4faa1b2da"
      },
      "execution_count": 20,
      "outputs": [
        {
          "output_type": "stream",
          "name": "stdout",
          "text": [
            "Sorted list: [(4, 1), (2, 2), (1, 5), (3, 8)]\n"
          ]
        }
      ]
    },
    {
      "cell_type": "markdown",
      "source": [
        "9.  Write a Python program that uses `map()` to convert a list of temperatures from Celsius to Fahrenheit."
      ],
      "metadata": {
        "id": "lu47jwVNLfVh"
      }
    },
    {
      "cell_type": "code",
      "source": [
        "# List of temperatures in Celsius\n",
        "celsius_temps = [0, 20, 37, 100]\n",
        "\n",
        "# Conversion formula: F = (C * 9/5) + 32\n",
        "fahrenheit_temps = list(map(lambda c: (c * 9/5) + 32, celsius_temps))\n",
        "\n",
        "print(\"Celsius:\", celsius_temps)\n",
        "print(\"Fahrenheit:\", fahrenheit_temps)\n"
      ],
      "metadata": {
        "colab": {
          "base_uri": "https://localhost:8080/"
        },
        "id": "S-aazDBTaxAu",
        "outputId": "27bc6fe2-8f58-4057-ca50-9c27bfd3ca76"
      },
      "execution_count": 1,
      "outputs": [
        {
          "output_type": "stream",
          "name": "stdout",
          "text": [
            "Celsius: [0, 20, 37, 100]\n",
            "Fahrenheit: [32.0, 68.0, 98.6, 212.0]\n"
          ]
        }
      ]
    },
    {
      "cell_type": "markdown",
      "source": [
        "10.  Create a Python program that uses `filter()` to remove all the vowels from a given string."
      ],
      "metadata": {
        "id": "6MNBBjLma69f"
      }
    },
    {
      "cell_type": "code",
      "source": [
        "# Input string\n",
        "text = \"Hello, World!\"\n",
        "\n",
        "# Define vowels\n",
        "vowels = \"aeiouAEIOU\"\n",
        "\n",
        "# Use filter to remove vowels\n",
        "filtered_text = ''.join(filter(lambda c: c not in vowels, text))\n",
        "\n",
        "print(\"Original string:\", text)\n",
        "print(\"String without vowels:\", filtered_text)\n"
      ],
      "metadata": {
        "colab": {
          "base_uri": "https://localhost:8080/"
        },
        "id": "8amJ7iTobPxv",
        "outputId": "3d67be00-ef6b-4512-cc40-cfa46043ee11"
      },
      "execution_count": 2,
      "outputs": [
        {
          "output_type": "stream",
          "name": "stdout",
          "text": [
            "Original string: Hello, World!\n",
            "String without vowels: Hll, Wrld!\n"
          ]
        }
      ]
    },
    {
      "cell_type": "markdown",
      "source": [
        "11.  Imagine an accounting routine used in a book shop. It works on a list with sublists, which look like this:\n",
        "\n",
        "\n",
        "\n",
        "\n",
        "\n",
        "\n",
        "\n",
        "Write a Python program, which returns a list with 2-tuples. Each tuple consists of the order number and the\n",
        "product of the price per item and the quantity. The product should be increased by 10,- € if the value of the\n",
        "order is smaller than 100,00 €.\n",
        "\n",
        "Write a Python program using lambda and map"
      ],
      "metadata": {
        "id": "dH68Bcr0bfzL"
      }
    },
    {
      "cell_type": "code",
      "source": [
        "orders = [\n",
        "    [34587, 40.95, 4],\n",
        "    [98762, 56.80, 5],\n",
        "    [77226, 32.95, 3],\n",
        "    [88112, 24.99, 3]\n",
        "]\n",
        "\n",
        "# Calculate total per order and add €10 if total < 100\n",
        "result = list(map(lambda order: (\n",
        "    order[0],\n",
        "    order[1] * order[2] + (10 if order[1] * order[2] < 100 else 0)\n",
        "), orders))\n",
        "\n",
        "print(result)\n"
      ],
      "metadata": {
        "colab": {
          "base_uri": "https://localhost:8080/"
        },
        "id": "USWCbDaR2mpR",
        "outputId": "aabdd066-f1f9-43f5-85bc-3441c5a5590b"
      },
      "execution_count": 3,
      "outputs": [
        {
          "output_type": "stream",
          "name": "stdout",
          "text": [
            "[(34587, 163.8), (98762, 284.0), (77226, 108.85000000000001), (88112, 84.97)]\n"
          ]
        }
      ]
    },
    {
      "cell_type": "code",
      "source": [],
      "metadata": {
        "id": "OQkrFNOS35Pf"
      },
      "execution_count": null,
      "outputs": []
    }
  ]
}